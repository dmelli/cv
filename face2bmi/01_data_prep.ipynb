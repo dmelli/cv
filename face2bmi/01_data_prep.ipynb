{
 "cells": [
  {
   "cell_type": "markdown",
   "metadata": {},
   "source": [
    "# Data Pipeline\n",
    "\n",
    "1.  face images were web-scraped from [Polk County](https://apps.polkcountyiowa.gov/PolkCountyInmates/CurrentInmates/), which is __no longer valid__ (_updated on 2020-07-24_)    \n",
    "2. combine meta data\n",
    "3. preprocess and Height, Weight and derive BMI"
   ]
  },
  {
   "cell_type": "code",
   "execution_count": 1,
   "metadata": {
    "ExecuteTime": {
     "end_time": "2020-07-24T09:56:40.375286Z",
     "start_time": "2020-07-24T09:56:39.451605Z"
    },
    "collapsed": true
   },
   "outputs": [],
   "source": [
    "import pandas as pd\n",
    "import os\n",
    "import re\n",
    "import numpy as np\n",
    "from matplotlib import pyplot as plt\n",
    "import seaborn as sns\n",
    "%matplotlib inline"
   ]
  },
  {
   "cell_type": "markdown",
   "metadata": {},
   "source": [
    "## original data before clean"
   ]
  },
  {
   "cell_type": "code",
   "execution_count": 2,
   "metadata": {
    "ExecuteTime": {
     "end_time": "2020-07-24T09:56:40.403131Z",
     "start_time": "2020-07-24T09:56:40.377780Z"
    }
   },
   "outputs": [
    {
     "data": {
      "text/html": [
       "<div>\n",
       "<table border=\"1\" class=\"dataframe\">\n",
       "  <thead>\n",
       "    <tr style=\"text-align: right;\">\n",
       "      <th></th>\n",
       "      <th>nameid</th>\n",
       "      <th>name</th>\n",
       "      <th>book_date</th>\n",
       "      <th>city</th>\n",
       "      <th>holding_location</th>\n",
       "      <th>age</th>\n",
       "      <th>height</th>\n",
       "      <th>weight</th>\n",
       "      <th>race</th>\n",
       "      <th>sex</th>\n",
       "      <th>eyes</th>\n",
       "      <th>hair</th>\n",
       "      <th>bookid</th>\n",
       "    </tr>\n",
       "  </thead>\n",
       "  <tbody>\n",
       "    <tr>\n",
       "      <th>0</th>\n",
       "      <td>7482</td>\n",
       "      <td>JAMES DEYO ROBINSON</td>\n",
       "      <td>3/10/2017 10:05:55 AM</td>\n",
       "      <td>WAUKEE, IA</td>\n",
       "      <td>PCJ</td>\n",
       "      <td>54</td>\n",
       "      <td>5' 11\"</td>\n",
       "      <td>280</td>\n",
       "      <td>Black</td>\n",
       "      <td>Male</td>\n",
       "      <td>Brown</td>\n",
       "      <td>Black</td>\n",
       "      <td>248038</td>\n",
       "    </tr>\n",
       "    <tr>\n",
       "      <th>1</th>\n",
       "      <td>754952</td>\n",
       "      <td>CORDERRO ALTON LAURENCE</td>\n",
       "      <td>4/23/2017 8:57:43 AM</td>\n",
       "      <td>DES MOINES, IA</td>\n",
       "      <td>Cherokee Mental Health</td>\n",
       "      <td>26</td>\n",
       "      <td>5' 11\"</td>\n",
       "      <td>210</td>\n",
       "      <td>Black</td>\n",
       "      <td>Male</td>\n",
       "      <td>Brown</td>\n",
       "      <td>Black</td>\n",
       "      <td>250464</td>\n",
       "    </tr>\n",
       "    <tr>\n",
       "      <th>2</th>\n",
       "      <td>644421</td>\n",
       "      <td>TAYLOR LOUIS HARLAN</td>\n",
       "      <td>12/7/2017 4:00:07 PM</td>\n",
       "      <td>DES MOINES, IA</td>\n",
       "      <td>PCJ</td>\n",
       "      <td>24</td>\n",
       "      <td>5' 09\"</td>\n",
       "      <td>290</td>\n",
       "      <td>White</td>\n",
       "      <td>Male</td>\n",
       "      <td>Green</td>\n",
       "      <td>Blonde</td>\n",
       "      <td>263711</td>\n",
       "    </tr>\n",
       "    <tr>\n",
       "      <th>3</th>\n",
       "      <td>699804</td>\n",
       "      <td>MALIK TYRONE MANDUJANO</td>\n",
       "      <td>4/1/2018 3:24:44 AM</td>\n",
       "      <td>DES MOINES, IA</td>\n",
       "      <td>PCJ</td>\n",
       "      <td>21</td>\n",
       "      <td>5' 03\"</td>\n",
       "      <td>130</td>\n",
       "      <td>Black</td>\n",
       "      <td>Male</td>\n",
       "      <td>Brown</td>\n",
       "      <td>Black</td>\n",
       "      <td>270020</td>\n",
       "    </tr>\n",
       "    <tr>\n",
       "      <th>4</th>\n",
       "      <td>238047</td>\n",
       "      <td>DUSTIN GLEN BLACK</td>\n",
       "      <td>8/5/2018 9:26:54 PM</td>\n",
       "      <td>DES MOINES, IA</td>\n",
       "      <td>PCJ</td>\n",
       "      <td>29</td>\n",
       "      <td>6' 02\"</td>\n",
       "      <td>230</td>\n",
       "      <td>White</td>\n",
       "      <td>Male</td>\n",
       "      <td>Blue</td>\n",
       "      <td>Blonde</td>\n",
       "      <td>277774</td>\n",
       "    </tr>\n",
       "  </tbody>\n",
       "</table>\n",
       "</div>"
      ],
      "text/plain": [
       "   nameid                     name              book_date            city  \\\n",
       "0    7482      JAMES DEYO ROBINSON  3/10/2017 10:05:55 AM      WAUKEE, IA   \n",
       "1  754952  CORDERRO ALTON LAURENCE   4/23/2017 8:57:43 AM  DES MOINES, IA   \n",
       "2  644421      TAYLOR LOUIS HARLAN   12/7/2017 4:00:07 PM  DES MOINES, IA   \n",
       "3  699804   MALIK TYRONE MANDUJANO    4/1/2018 3:24:44 AM  DES MOINES, IA   \n",
       "4  238047        DUSTIN GLEN BLACK    8/5/2018 9:26:54 PM  DES MOINES, IA   \n",
       "\n",
       "         holding_location  age  height  weight   race   sex   eyes    hair  \\\n",
       "0                     PCJ   54  5' 11\"     280  Black  Male  Brown   Black   \n",
       "1  Cherokee Mental Health   26  5' 11\"     210  Black  Male  Brown   Black   \n",
       "2                     PCJ   24  5' 09\"     290  White  Male  Green  Blonde   \n",
       "3                     PCJ   21  5' 03\"     130  Black  Male  Brown   Black   \n",
       "4                     PCJ   29  6' 02\"     230  White  Male   Blue  Blonde   \n",
       "\n",
       "   bookid  \n",
       "0  248038  \n",
       "1  250464  \n",
       "2  263711  \n",
       "3  270020  \n",
       "4  277774  "
      ]
     },
     "execution_count": 2,
     "metadata": {},
     "output_type": "execute_result"
    }
   ],
   "source": [
    "data = pd.read_csv('./data/full.csv')\n",
    "data.head()"
   ]
  },
  {
   "cell_type": "code",
   "execution_count": 3,
   "metadata": {
    "ExecuteTime": {
     "end_time": "2020-07-24T09:56:40.468430Z",
     "start_time": "2020-07-24T09:56:40.405126Z"
    }
   },
   "outputs": [
    {
     "data": {
      "text/html": [
       "<div>\n",
       "<table border=\"1\" class=\"dataframe\">\n",
       "  <thead>\n",
       "    <tr style=\"text-align: right;\">\n",
       "      <th></th>\n",
       "      <th>nameid</th>\n",
       "      <th>name</th>\n",
       "      <th>book_date</th>\n",
       "      <th>city</th>\n",
       "      <th>holding_location</th>\n",
       "      <th>age</th>\n",
       "      <th>height</th>\n",
       "      <th>weight</th>\n",
       "      <th>race</th>\n",
       "      <th>sex</th>\n",
       "      <th>eyes</th>\n",
       "      <th>hair</th>\n",
       "      <th>bookid</th>\n",
       "      <th>feet</th>\n",
       "      <th>inches</th>\n",
       "    </tr>\n",
       "  </thead>\n",
       "  <tbody>\n",
       "    <tr>\n",
       "      <th>31</th>\n",
       "      <td>1083884</td>\n",
       "      <td>CALEB CHARLES RUTAN</td>\n",
       "      <td>1/2/2019 6:27:40 AM</td>\n",
       "      <td>DES MOINES, IA</td>\n",
       "      <td>PCJ</td>\n",
       "      <td>48</td>\n",
       "      <td>6' 63\"</td>\n",
       "      <td>200</td>\n",
       "      <td>White</td>\n",
       "      <td>Male</td>\n",
       "      <td>Brown</td>\n",
       "      <td>Gray</td>\n",
       "      <td>287593</td>\n",
       "      <td>6.0</td>\n",
       "      <td>63.0</td>\n",
       "    </tr>\n",
       "    <tr>\n",
       "      <th>456</th>\n",
       "      <td>912542</td>\n",
       "      <td>HUSSEIN NKUSU TAMBWE</td>\n",
       "      <td>7/4/2019 10:40:46 AM</td>\n",
       "      <td>URBANDALE, IA</td>\n",
       "      <td>PCJ</td>\n",
       "      <td>24</td>\n",
       "      <td>5' 57\"</td>\n",
       "      <td>175</td>\n",
       "      <td>Black</td>\n",
       "      <td>Male</td>\n",
       "      <td>Brown</td>\n",
       "      <td>Black</td>\n",
       "      <td>296374</td>\n",
       "      <td>5.0</td>\n",
       "      <td>57.0</td>\n",
       "    </tr>\n",
       "    <tr>\n",
       "      <th>566</th>\n",
       "      <td>1169382</td>\n",
       "      <td>JULIANNE JO BECKETT</td>\n",
       "      <td>7/15/2019 4:50:55 PM</td>\n",
       "      <td>KNOXVILLE, IA</td>\n",
       "      <td>PCJ</td>\n",
       "      <td>20</td>\n",
       "      <td>5' 59\"</td>\n",
       "      <td>350</td>\n",
       "      <td>White</td>\n",
       "      <td>Female</td>\n",
       "      <td>Hazel</td>\n",
       "      <td>Brown</td>\n",
       "      <td>296977</td>\n",
       "      <td>5.0</td>\n",
       "      <td>59.0</td>\n",
       "    </tr>\n",
       "    <tr>\n",
       "      <th>622</th>\n",
       "      <td>1227456</td>\n",
       "      <td>ANDREW LANTA BOYD</td>\n",
       "      <td>7/19/2019 8:11:17 AM</td>\n",
       "      <td>DES MOINES, IA</td>\n",
       "      <td>PCJ</td>\n",
       "      <td>35</td>\n",
       "      <td>5' 59\"</td>\n",
       "      <td>0</td>\n",
       "      <td>Black</td>\n",
       "      <td>Male</td>\n",
       "      <td>Brown</td>\n",
       "      <td>Black</td>\n",
       "      <td>297206</td>\n",
       "      <td>5.0</td>\n",
       "      <td>59.0</td>\n",
       "    </tr>\n",
       "    <tr>\n",
       "      <th>640</th>\n",
       "      <td>877215</td>\n",
       "      <td>SIOUX HAWK HOFFNER</td>\n",
       "      <td>7/22/2019 6:51:56 PM</td>\n",
       "      <td>DES MOINES, IA</td>\n",
       "      <td>PCJ</td>\n",
       "      <td>24</td>\n",
       "      <td>4' 49\"</td>\n",
       "      <td>90</td>\n",
       "      <td>Pacific Islander</td>\n",
       "      <td>Female</td>\n",
       "      <td>Brown</td>\n",
       "      <td>Brown</td>\n",
       "      <td>297380</td>\n",
       "      <td>4.0</td>\n",
       "      <td>49.0</td>\n",
       "    </tr>\n",
       "    <tr>\n",
       "      <th>671</th>\n",
       "      <td>1051124</td>\n",
       "      <td>JASON ALLAN BROWNING</td>\n",
       "      <td>7/24/2019 6:10:24 PM</td>\n",
       "      <td>URBANDALE, IA</td>\n",
       "      <td>PCJ</td>\n",
       "      <td>41</td>\n",
       "      <td>6' 60\"</td>\n",
       "      <td>205</td>\n",
       "      <td>White</td>\n",
       "      <td>Male</td>\n",
       "      <td>Green</td>\n",
       "      <td>Brown</td>\n",
       "      <td>297503</td>\n",
       "      <td>6.0</td>\n",
       "      <td>60.0</td>\n",
       "    </tr>\n",
       "    <tr>\n",
       "      <th>1068</th>\n",
       "      <td>1012250</td>\n",
       "      <td>DARRYL ANTHONY HISHAW</td>\n",
       "      <td>10/6/2019 4:48:50 PM</td>\n",
       "      <td>DES MOINES, IA</td>\n",
       "      <td>PCJ</td>\n",
       "      <td>26</td>\n",
       "      <td>5' 56\"</td>\n",
       "      <td>145</td>\n",
       "      <td>Black</td>\n",
       "      <td>Male</td>\n",
       "      <td>Brown</td>\n",
       "      <td>Black</td>\n",
       "      <td>301966</td>\n",
       "      <td>5.0</td>\n",
       "      <td>56.0</td>\n",
       "    </tr>\n",
       "    <tr>\n",
       "      <th>1192</th>\n",
       "      <td>1170588</td>\n",
       "      <td>KAY  SAW</td>\n",
       "      <td>10/27/2019 4:21:49 PM</td>\n",
       "      <td>DES MOINES, IA</td>\n",
       "      <td>PCJ</td>\n",
       "      <td>22</td>\n",
       "      <td>5' 54\"</td>\n",
       "      <td>120</td>\n",
       "      <td>Asian</td>\n",
       "      <td>Male</td>\n",
       "      <td>Brown</td>\n",
       "      <td>Black</td>\n",
       "      <td>303124</td>\n",
       "      <td>5.0</td>\n",
       "      <td>54.0</td>\n",
       "    </tr>\n",
       "  </tbody>\n",
       "</table>\n",
       "</div>"
      ],
      "text/plain": [
       "       nameid                   name              book_date            city  \\\n",
       "31    1083884    CALEB CHARLES RUTAN    1/2/2019 6:27:40 AM  DES MOINES, IA   \n",
       "456    912542   HUSSEIN NKUSU TAMBWE   7/4/2019 10:40:46 AM   URBANDALE, IA   \n",
       "566   1169382    JULIANNE JO BECKETT   7/15/2019 4:50:55 PM   KNOXVILLE, IA   \n",
       "622   1227456      ANDREW LANTA BOYD   7/19/2019 8:11:17 AM  DES MOINES, IA   \n",
       "640    877215     SIOUX HAWK HOFFNER   7/22/2019 6:51:56 PM  DES MOINES, IA   \n",
       "671   1051124   JASON ALLAN BROWNING   7/24/2019 6:10:24 PM   URBANDALE, IA   \n",
       "1068  1012250  DARRYL ANTHONY HISHAW   10/6/2019 4:48:50 PM  DES MOINES, IA   \n",
       "1192  1170588               KAY  SAW  10/27/2019 4:21:49 PM  DES MOINES, IA   \n",
       "\n",
       "     holding_location  age  height  weight              race     sex   eyes  \\\n",
       "31                PCJ   48  6' 63\"     200             White    Male  Brown   \n",
       "456               PCJ   24  5' 57\"     175             Black    Male  Brown   \n",
       "566               PCJ   20  5' 59\"     350             White  Female  Hazel   \n",
       "622               PCJ   35  5' 59\"       0             Black    Male  Brown   \n",
       "640               PCJ   24  4' 49\"      90  Pacific Islander  Female  Brown   \n",
       "671               PCJ   41  6' 60\"     205             White    Male  Green   \n",
       "1068              PCJ   26  5' 56\"     145             Black    Male  Brown   \n",
       "1192              PCJ   22  5' 54\"     120             Asian    Male  Brown   \n",
       "\n",
       "       hair  bookid  feet  inches  \n",
       "31     Gray  287593   6.0    63.0  \n",
       "456   Black  296374   5.0    57.0  \n",
       "566   Brown  296977   5.0    59.0  \n",
       "622   Black  297206   5.0    59.0  \n",
       "640   Brown  297380   4.0    49.0  \n",
       "671   Brown  297503   6.0    60.0  \n",
       "1068  Black  301966   5.0    56.0  \n",
       "1192  Black  303124   5.0    54.0  "
      ]
     },
     "execution_count": 3,
     "metadata": {},
     "output_type": "execute_result"
    }
   ],
   "source": [
    "# regex to extract feet and inches from height\n",
    "regex_feet = re.compile(\"([0-9]+)\\'\")\n",
    "regex_inches = re.compile(\"([0-9]+)\\\"\")\n",
    "\n",
    "def extract_numbers(x, regex):\n",
    "    captures = regex.findall(x)\n",
    "    if len(captures) > 0:\n",
    "        try:\n",
    "            return int(captures[0])\n",
    "        except:\n",
    "            return None\n",
    "    else:\n",
    "        return None\n",
    "    \n",
    "# parse the height string to feet and inches\n",
    "data['feet'] = data['height'].map(lambda i: extract_numbers(i, regex_feet))\n",
    "data['inches'] = data['height'].map(lambda i: extract_numbers(i, regex_inches))\n",
    "data.loc[data.inches > 12,:]"
   ]
  },
  {
   "cell_type": "code",
   "execution_count": 4,
   "metadata": {
    "ExecuteTime": {
     "end_time": "2020-07-24T09:56:40.665460Z",
     "start_time": "2020-07-24T09:56:40.471412Z"
    }
   },
   "outputs": [
    {
     "data": {
      "text/html": [
       "<div>\n",
       "<table border=\"1\" class=\"dataframe\">\n",
       "  <thead>\n",
       "    <tr style=\"text-align: right;\">\n",
       "      <th></th>\n",
       "      <th>nameid</th>\n",
       "      <th>age</th>\n",
       "      <th>height</th>\n",
       "      <th>weight</th>\n",
       "      <th>race</th>\n",
       "      <th>sex</th>\n",
       "      <th>eyes</th>\n",
       "      <th>hair</th>\n",
       "      <th>bmi</th>\n",
       "    </tr>\n",
       "  </thead>\n",
       "  <tbody>\n",
       "    <tr>\n",
       "      <th>0</th>\n",
       "      <td>7482</td>\n",
       "      <td>54</td>\n",
       "      <td>1.8034</td>\n",
       "      <td>127.00576</td>\n",
       "      <td>Black</td>\n",
       "      <td>Male</td>\n",
       "      <td>Brown</td>\n",
       "      <td>Black</td>\n",
       "      <td>39.051641</td>\n",
       "    </tr>\n",
       "    <tr>\n",
       "      <th>1</th>\n",
       "      <td>754952</td>\n",
       "      <td>26</td>\n",
       "      <td>1.8034</td>\n",
       "      <td>95.25432</td>\n",
       "      <td>Black</td>\n",
       "      <td>Male</td>\n",
       "      <td>Brown</td>\n",
       "      <td>Black</td>\n",
       "      <td>29.288731</td>\n",
       "    </tr>\n",
       "    <tr>\n",
       "      <th>2</th>\n",
       "      <td>644421</td>\n",
       "      <td>24</td>\n",
       "      <td>1.7526</td>\n",
       "      <td>131.54168</td>\n",
       "      <td>White</td>\n",
       "      <td>Male</td>\n",
       "      <td>Green</td>\n",
       "      <td>Blonde</td>\n",
       "      <td>42.825039</td>\n",
       "    </tr>\n",
       "    <tr>\n",
       "      <th>3</th>\n",
       "      <td>699804</td>\n",
       "      <td>21</td>\n",
       "      <td>1.6002</td>\n",
       "      <td>58.96696</td>\n",
       "      <td>Black</td>\n",
       "      <td>Male</td>\n",
       "      <td>Brown</td>\n",
       "      <td>Black</td>\n",
       "      <td>23.028211</td>\n",
       "    </tr>\n",
       "    <tr>\n",
       "      <th>4</th>\n",
       "      <td>238047</td>\n",
       "      <td>29</td>\n",
       "      <td>1.8796</td>\n",
       "      <td>104.32616</td>\n",
       "      <td>White</td>\n",
       "      <td>Male</td>\n",
       "      <td>Blue</td>\n",
       "      <td>Blonde</td>\n",
       "      <td>29.529925</td>\n",
       "    </tr>\n",
       "  </tbody>\n",
       "</table>\n",
       "</div>"
      ],
      "text/plain": [
       "   nameid  age  height     weight   race   sex   eyes    hair        bmi\n",
       "0    7482   54  1.8034  127.00576  Black  Male  Brown   Black  39.051641\n",
       "1  754952   26  1.8034   95.25432  Black  Male  Brown   Black  29.288731\n",
       "2  644421   24  1.7526  131.54168  White  Male  Green  Blonde  42.825039\n",
       "3  699804   21  1.6002   58.96696  Black  Male  Brown   Black  23.028211\n",
       "4  238047   29  1.8796  104.32616  White  Male   Blue  Blonde  29.529925"
      ]
     },
     "execution_count": 4,
     "metadata": {},
     "output_type": "execute_result"
    }
   ],
   "source": [
    "# found some incorrect inches, assume 63\" to 6.3\"\n",
    "data['inches'] = data['inches'].map(lambda i: i / 10 if i > 12 else i)\n",
    "# convert feet/inches to inches\n",
    "data['height'] = data.apply(lambda row: row['feet'] * 12 + row['inches'], axis=1)\n",
    "# covert inches to m\n",
    "data['height'] = data['height'].map(lambda i: i * 2.54 / 100)\n",
    "# weight pounds => kg\n",
    "data['weight'] = data['weight'].map(lambda i: i * 0.453592)\n",
    "# calculate BMI = weight/height^2\n",
    "data['bmi'] = data.apply(lambda row: row['weight'] / row['height'] / row['height'], axis = 1)\n",
    "# create gender (number format of sex)\n",
    "data['gender'] = data['sex'].map(lambda i: 1 if i == 'Male' else 0)\n",
    "\n",
    "data[['nameid','age','height','weight','race','sex','eyes','hair', 'bmi']].head()"
   ]
  },
  {
   "cell_type": "markdown",
   "metadata": {},
   "source": [
    "## Descriptive Analysis"
   ]
  },
  {
   "cell_type": "code",
   "execution_count": 5,
   "metadata": {
    "ExecuteTime": {
     "end_time": "2020-07-24T09:56:40.672725Z",
     "start_time": "2020-07-24T09:56:40.667626Z"
    },
    "collapsed": true
   },
   "outputs": [],
   "source": [
    "plt.rcParams[\"figure.figsize\"] = (12, 6)\n",
    "plt.rcParams[\"xtick.labelsize\"] = 12\n",
    "plt.rcParams[\"ytick.labelsize\"] = 12\n",
    "plt.rcParams[\"font.size\"] = 12\n",
    "plt.rcParams[\"axes.labelsize\"] = 12"
   ]
  },
  {
   "cell_type": "code",
   "execution_count": 6,
   "metadata": {
    "ExecuteTime": {
     "end_time": "2020-07-24T09:56:41.458391Z",
     "start_time": "2020-07-24T09:56:40.674843Z"
    }
   },
   "outputs": [
    {
     "data": {
      "image/png": "[encoded data removed]",
      "text/plain": [
       "<matplotlib.figure.Figure at 0x7ff60f495588>"
      ]
     },
     "metadata": {},
     "output_type": "display_data"
    }
   ],
   "source": [
    "def ax_subplot(ax, x, title, bins = 25, color = 'lightblue'):\n",
    "    x = x[~x.isnull()]\n",
    "    ax.hist(x, bins = bins, color = color)\n",
    "    ax.set_title(title)\n",
    "    \n",
    "fig, ax = plt.subplots(2,2)\n",
    "#fig.set_size_inches(16,8)\n",
    "ax_subplot(ax[0,0], data.height, 'Height(kg)')\n",
    "ax_subplot(ax[0,1], data.weight, 'Weight(cm)')\n",
    "ax_subplot(ax[1,0], data.age, 'Age')\n",
    "ax_subplot(ax[1,1], data.bmi, 'BMI')\n",
    "plt.tight_layout()\n",
    "plt.show()"
   ]
  },
  {
   "cell_type": "markdown",
   "metadata": {},
   "source": [
    "###  BMI density by Sex"
   ]
  },
  {
   "cell_type": "code",
   "execution_count": 7,
   "metadata": {
    "ExecuteTime": {
     "end_time": "2020-07-24T09:56:42.076053Z",
     "start_time": "2020-07-24T09:56:41.460713Z"
    }
   },
   "outputs": [
    {
     "data": {
      "image/png": "[encoded data removed]",
      "text/plain": [
       "<matplotlib.figure.Figure at 0x7ff604e41898>"
      ]
     },
     "metadata": {},
     "output_type": "display_data"
    }
   ],
   "source": [
    "fig, ax = plt.subplots(1,2,sharex=True)\n",
    "fig.set_size_inches(12,4)\n",
    "options = {'density plot': True, 'count plot': False}\n",
    "\n",
    "for i, (title, normed) in enumerate(options.items()):\n",
    "\n",
    "    for sex in ['Male','Female']:\n",
    "        ax[i].hist(data.loc[(data.sex == sex) & (~data.bmi.isnull()),'bmi'].values, label = sex, alpha = 0.5, \n",
    "                 bins = 30, normed = normed)\n",
    "        ax[i].set_title(title)\n",
    "        ax[i].set_xlabel('BMI')\n",
    "        ax[i].legend(loc = 'upper left')\n",
    "        \n",
    "plt.tight_layout()        \n",
    "plt.show()"
   ]
  },
  {
   "cell_type": "markdown",
   "metadata": {},
   "source": [
    "### Gender and Race Imbalance"
   ]
  },
  {
   "cell_type": "code",
   "execution_count": 8,
   "metadata": {
    "ExecuteTime": {
     "end_time": "2020-07-24T09:56:42.283805Z",
     "start_time": "2020-07-24T09:56:42.078443Z"
    }
   },
   "outputs": [
    {
     "data": {
      "text/plain": [
       "<matplotlib.axes._subplots.AxesSubplot at 0x7ff604d8b908>"
      ]
     },
     "execution_count": 8,
     "metadata": {},
     "output_type": "execute_result"
    },
    {
     "data": {
      "image/png": "[encoded data removed]",
      "text/plain": [
       "<matplotlib.figure.Figure at 0x7ff60efceda0>"
      ]
     },
     "metadata": {},
     "output_type": "display_data"
    }
   ],
   "source": [
    "sns.countplot(y = 'race' ,data = data, hue = 'sex')"
   ]
  },
  {
   "cell_type": "markdown",
   "metadata": {
    "collapsed": true
   },
   "source": [
    "## split train / valid data"
   ]
  },
  {
   "cell_type": "code",
   "execution_count": 9,
   "metadata": {
    "ExecuteTime": {
     "end_time": "2020-07-24T09:56:42.358585Z",
     "start_time": "2020-07-24T09:56:42.286017Z"
    }
   },
   "outputs": [
    {
     "name": "stdout",
     "output_type": "stream",
     "text": [
      "train data dimension: (1267, 18)\n",
      "test data dimension:  (276, 18)\n"
     ]
    }
   ],
   "source": [
    "# remove rows that no face images\n",
    "data['index'] = data['bookid'].map(lambda i: str(i) +'.jpg')\n",
    "allimage = os.listdir('./data/face/')\n",
    "data = data.loc[data['index'].isin(allimage),:]\n",
    "\n",
    "# remove rows with invalid BMI\n",
    "data = data.loc[~data['bmi'].isnull(), :]\n",
    "\n",
    "# split train/valid\n",
    "in_train = np.random.random(size = len(data)) <= 0.8\n",
    "train = data.loc[in_train,:]\n",
    "test = data.loc[~in_train,:]\n",
    "\n",
    "print('train data dimension: {}'.format(str(train.shape)))\n",
    "print('test data dimension:  {}'.format(str(test.shape)))\n",
    "\n",
    "# output to csv files\n",
    "train.to_csv('./data/train.csv', index = False)\n",
    "test.to_csv('./data/valid.csv', index = False)"
   ]
  }
 ],
 "metadata": {
  "hide_input": false,
  "kernelspec": {
   "display_name": "Python 3",
   "language": "python",
   "name": "python3"
  },
  "language_info": {
   "codemirror_mode": {
    "name": "ipython",
    "version": 3
   },
   "file_extension": ".py",
   "mimetype": "text/x-python",
   "name": "python",
   "nbconvert_exporter": "python",
   "pygments_lexer": "ipython3",
   "version": "3.5.2"
  },
  "toc": {
   "base_numbering": 1,
   "nav_menu": {},
   "number_sections": true,
   "sideBar": true,
   "skip_h1_title": false,
   "title_cell": "Table of Contents",
   "title_sidebar": "Contents",
   "toc_cell": false,
   "toc_position": {},
   "toc_section_display": true,
   "toc_window_display": false
  }
 },
 "nbformat": 4,
 "nbformat_minor": 2
}
